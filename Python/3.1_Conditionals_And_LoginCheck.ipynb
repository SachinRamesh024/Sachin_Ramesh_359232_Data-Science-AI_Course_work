{
 "cells": [
  {
   "cell_type": "markdown",
   "id": "97065eb9-9046-406f-9ea5-e44eae3ec416",
   "metadata": {},
   "source": [
    "# Week 3: Conditionals and Login System\n",
    "\n",
    "This notebook covers:\n",
    "- Conditional statements (`if`, `else`, `elif`)\n",
    "- Membership and identity operators\n",
    "- Login validation logic using user input\n",
    "- Nested conditions (even/odd + divisibility)\n"
   ]
  },
  {
   "cell_type": "markdown",
   "id": "cee9976d-7abe-4b7a-8939-054907bb543f",
   "metadata": {},
   "source": [
    "## 🧠 Operators Summary\n",
    "\n",
    "### Membership Operators:\n",
    "- `in`, `not in`\n",
    "\n",
    "### Identity Operators:\n",
    "- `is`, `is not`\n",
    "\n",
    "### Bitwise Operators (just mentioned):\n",
    "- `&`, `|`, `^`, `~`, `<<`, `>>` (Not used here)\n",
    "\n",
    "---\n",
    "\n",
    "### 💬 Python Comments\n",
    "- **Single-line:** starts with `#`\n",
    "- **Multi-line:** use `'''` or `\"\"\"`\n"
   ]
  },
  {
   "cell_type": "code",
   "execution_count": 1,
   "id": "e39fe723-bec2-4d16-90ec-af0d0edd418a",
   "metadata": {},
   "outputs": [
    {
     "name": "stdin",
     "output_type": "stream",
     "text": [
      "Enter an integer:  2\n"
     ]
    },
    {
     "name": "stdout",
     "output_type": "stream",
     "text": [
      "Number is Even 🙌\n"
     ]
    }
   ],
   "source": [
    "# Task: Take an integer input and print if it is Even or Odd\n",
    "\n",
    "a = int(input(\"Enter an integer: \"))\n",
    "\n",
    "if a % 2 == 0:\n",
    "    print('Number is Even 🙌')\n",
    "else:\n",
    "    print('Number is Odd 👌')\n"
   ]
  },
  {
   "cell_type": "code",
   "execution_count": 2,
   "id": "793a5442-5077-468c-b434-94cf8a0faa25",
   "metadata": {},
   "outputs": [
    {
     "name": "stdin",
     "output_type": "stream",
     "text": [
      "Enter an integer:  16\n"
     ]
    },
    {
     "name": "stdout",
     "output_type": "stream",
     "text": [
      "Number is Even and divisible by 8 ✅\n"
     ]
    }
   ],
   "source": [
    "# Task: Check if number is even, and if yes, is it divisible by 8?\n",
    "\n",
    "a = int(input(\"Enter an integer: \"))\n",
    "\n",
    "if a % 2 == 0:\n",
    "    if a % 8 == 0:\n",
    "        print(\"Number is Even and divisible by 8 ✅\")\n",
    "    else:\n",
    "        print(\"Number is Even 🙌\")\n",
    "else:\n",
    "    print(\"Number is Odd 👌\")\n"
   ]
  },
  {
   "cell_type": "code",
   "execution_count": 4,
   "id": "52ad0e5e-e427-4239-9c8f-275e0aebd9f3",
   "metadata": {},
   "outputs": [
    {
     "name": "stdin",
     "output_type": "stream",
     "text": [
      "Enter email:  smalani@gmail.com\n",
      "Enter password:  abc123\n"
     ]
    },
    {
     "name": "stdout",
     "output_type": "stream",
     "text": [
      "✅ Password & Email matched! Here are your details:\n",
      "Name:  Sachin\n",
      "Phone:  923000000000\n",
      "Age:  20\n",
      "Email:  smalani@gmail.com\n",
      "Address:  Karachi\n"
     ]
    }
   ],
   "source": [
    "# Task: Login check with both email and password at once\n",
    "\n",
    "original_password = \"abc123\"\n",
    "original_email = \"smalani@gmail.com\"\n",
    "name = \"Sachin\"\n",
    "phone = 923000000000\n",
    "age = 20\n",
    "address = \"Karachi\"\n",
    "\n",
    "email = input(\"Enter email: \")\n",
    "password = input(\"Enter password: \")\n",
    "\n",
    "if email == original_email and password == original_password:\n",
    "    print(\"✅ Password & Email matched! Here are your details:\")\n",
    "    print(\"Name: \", name)\n",
    "    print(\"Phone: \", phone)\n",
    "    print(\"Age: \", age)\n",
    "    print(\"Email: \", email)\n",
    "    print(\"Address: \", address)\n",
    "else:\n",
    "    print(\"❌ Invalid email or password.\")\n"
   ]
  },
  {
   "cell_type": "code",
   "execution_count": 5,
   "id": "84cbf2fb-4a1e-43ef-a8f2-1b94ccbce930",
   "metadata": {},
   "outputs": [
    {
     "name": "stdin",
     "output_type": "stream",
     "text": [
      "Enter email:  smalani@gmail.com\n"
     ]
    },
    {
     "name": "stdout",
     "output_type": "stream",
     "text": [
      "✅ Email matched! Checking for password...\n"
     ]
    },
    {
     "name": "stdin",
     "output_type": "stream",
     "text": [
      "Enter password:  abc123\n"
     ]
    },
    {
     "name": "stdout",
     "output_type": "stream",
     "text": [
      "✅ Password matched! Here are your details:\n",
      "Name:  Sachin Ramesh\n",
      "Phone:  923093794285\n",
      "Age:  20\n",
      "Email:  smalani@gmail.com\n",
      "Address:  Ali Palace\n"
     ]
    }
   ],
   "source": [
    "# Task: First check email, then ask password\n",
    "\n",
    "original_password = \"abc123\"\n",
    "original_email = \"smalani@gmail.com\"\n",
    "name = \"Sachin Ramesh\"\n",
    "phone = 923093794285\n",
    "age = 20\n",
    "address = \"Ali Palace\"\n",
    "\n",
    "email = input(\"Enter email: \")\n",
    "\n",
    "if email == original_email:\n",
    "    print(\"✅ Email matched! Checking for password...\")\n",
    "    password = input(\"Enter password: \")\n",
    "\n",
    "    if password == original_password:\n",
    "        print(\"✅ Password matched! Here are your details:\")\n",
    "        print(\"Name: \", name)\n",
    "        print(\"Phone: \", phone)\n",
    "        print(\"Age: \", age)\n",
    "        print(\"Email: \", email)\n",
    "        print(\"Address: \", address)\n",
    "    else:\n",
    "        print(\"❌ Email matched but password is incorrect.\")\n",
    "else:\n",
    "    print(\"❌ Invalid email.\")\n"
   ]
  },
  {
   "cell_type": "code",
   "execution_count": null,
   "id": "69d167ea-13b0-44e3-8968-bdaa5793c4bc",
   "metadata": {},
   "outputs": [],
   "source": []
  }
 ],
 "metadata": {
  "kernelspec": {
   "display_name": "Python 3 (ipykernel)",
   "language": "python",
   "name": "python3"
  },
  "language_info": {
   "codemirror_mode": {
    "name": "ipython",
    "version": 3
   },
   "file_extension": ".py",
   "mimetype": "text/x-python",
   "name": "python",
   "nbconvert_exporter": "python",
   "pygments_lexer": "ipython3",
   "version": "3.12.7"
  }
 },
 "nbformat": 4,
 "nbformat_minor": 5
}
