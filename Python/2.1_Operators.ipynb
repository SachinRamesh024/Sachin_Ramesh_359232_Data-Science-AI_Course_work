{
 "cells": [
  {
   "cell_type": "markdown",
   "id": "9d489a82-477e-473e-a720-bbf0f28b0118",
   "metadata": {},
   "source": [
    "# Week 2: Python Basics & Operators\n",
    "\n",
    "## Python Naming Rules\n",
    "- Must start with an alphabet\n",
    "- Cannot contain spaces\n",
    "- Underscores (_) are allowed\n",
    "- Reserved words are not allowed as variable names\n",
    "\n",
    "---\n",
    "\n",
    "## Operators\n",
    "\n",
    "### Arithmetic Operators\n",
    "1. Addition (+)\n",
    "2. Subtraction (-)\n",
    "3. Multiplication (*)\n",
    "4. Division (/)\n",
    "5. Modulus (%)\n",
    "\n",
    "### Data Conversion\n",
    "**Syntax:** `type_to_convert(value_to_convert)`\n",
    "\n",
    "- **Implicit Conversion**: Automatic (e.g., int to float)\n",
    "- **Explicit Conversion**: Manual, possible data loss\n",
    "\n",
    "### Assignment Operators\n",
    "- `=` : Assignment\n",
    "\n",
    "### Comparison (Relational) Operators — return Boolean\n",
    "1. `<` : Less Than  \n",
    "2. `>` : Greater Than  \n",
    "3. `==` : Equals  \n",
    "4. `!=` : Not Equals  \n",
    "5. `<=` : Less Than or Equal To  \n",
    "6. `>=` : Greater Than or Equal To\n",
    "\n",
    "### Logical Operators\n",
    "- `or`, `and`, `not`\n",
    "\n",
    "### Membership Operators\n",
    "- `in`, `not in`\n",
    "\n",
    "### Identity Operators\n",
    "- `is`, `is not`\n",
    "\n",
    "---\n",
    "\n",
    "**Task Example**:  \n",
    "“Ahmed is older than Ali and Rizwan, where Rizwan is younger than Taha and Fareed.”\n"
   ]
  },
  {
   "cell_type": "code",
   "execution_count": null,
   "id": "208f38cc-67e7-447f-b592-7bd5e382c36c",
   "metadata": {},
   "outputs": [],
   "source": []
  }
 ],
 "metadata": {
  "kernelspec": {
   "display_name": "Python 3 (ipykernel)",
   "language": "python",
   "name": "python3"
  },
  "language_info": {
   "codemirror_mode": {
    "name": "ipython",
    "version": 3
   },
   "file_extension": ".py",
   "mimetype": "text/x-python",
   "name": "python",
   "nbconvert_exporter": "python",
   "pygments_lexer": "ipython3",
   "version": "3.12.7"
  }
 },
 "nbformat": 4,
 "nbformat_minor": 5
}
