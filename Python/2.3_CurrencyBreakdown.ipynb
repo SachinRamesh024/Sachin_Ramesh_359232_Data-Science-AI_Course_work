{
 "cells": [
  {
   "cell_type": "code",
   "execution_count": 1,
   "id": "c9e4ec2e-eadf-4e06-8913-f844d6879393",
   "metadata": {},
   "outputs": [
    {
     "name": "stdout",
     "output_type": "stream",
     "text": [
      "Five Thousand notes: 1\n",
      "Remaining amount: 4870\n",
      "One Thousand notes: 4\n",
      "Remaining amount: 870\n",
      "Five Hundred notes: 1\n",
      "Remaining amount: 370\n",
      "One Hundred notes: 3\n",
      "Remaining amount: 70\n",
      "Fifty Rupees notes: 1\n",
      "Remaining amount: 20\n",
      "twenty Rupees notes: 1.\n",
      "Remaining amount: 0\n"
     ]
    }
   ],
   "source": [
    "# Task#01 Write a program to find the total number of differnt notes in a given amount.\n",
    "\"\"\"Example: amount=9870\n",
    "5000 note=1\n",
    "1000 note=4\n",
    "500  note=1\n",
    "100  note=3\n",
    "50   note=1\n",
    "20   note=1 \n",
    "Hint: Use division (/) and modulo (%) operators.\"\"\"\n",
    "\n",
    "amount=9870\n",
    "\n",
    "five_k_note=int(amount/5000)\n",
    "amount=amount%5000\n",
    "print(f\"Five Thousand notes: {five_k_note}\")\n",
    "print(f\"Remaining amount: {amount}\")\n",
    "\n",
    "one_k_note=int(amount/1000)\n",
    "amount=amount%1000\n",
    "print(f\"One Thousand notes: {one_k_note}\")\n",
    "print(f\"Remaining amount: {amount}\")\n",
    "\n",
    "five_hun_note=int(amount/500)\n",
    "amount=amount%500\n",
    "print(f\"Five Hundred notes: {five_hun_note}\")\n",
    "print(f\"Remaining amount: {amount}\")\n",
    "\n",
    "one_hun_note=int(amount/100)\n",
    "amount=amount%100\n",
    "print(f\"One Hundred notes: {one_hun_note}\")\n",
    "print(f\"Remaining amount: {amount}\")\n",
    "\n",
    "fifty_rupee_note=int(amount/50)\n",
    "amount=amount%50\n",
    "print(f\"Fifty Rupees notes: {fifty_rupee_note}\")\n",
    "print(f\"Remaining amount: {amount}\")\n",
    "\n",
    "twenty_rupee_note=int(amount/20)\n",
    "amount=amount%20\n",
    "print(f\"twenty Rupees notes: {twenty_rupee_note}.\")\n",
    "print(f\"Remaining amount: {amount}\")"
   ]
  }
 ],
 "metadata": {
  "kernelspec": {
   "display_name": "Python 3 (ipykernel)",
   "language": "python",
   "name": "python3"
  },
  "language_info": {
   "codemirror_mode": {
    "name": "ipython",
    "version": 3
   },
   "file_extension": ".py",
   "mimetype": "text/x-python",
   "name": "python",
   "nbconvert_exporter": "python",
   "pygments_lexer": "ipython3",
   "version": "3.12.7"
  }
 },
 "nbformat": 4,
 "nbformat_minor": 5
}
