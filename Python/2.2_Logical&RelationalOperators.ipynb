{
 "cells": [
  {
   "cell_type": "markdown",
   "id": "c81424a5-246b-4b9e-9edd-d00707982c4f",
   "metadata": {},
   "source": [
    "## Week 2 - Logical and Relational(Comparison) Operators Example\n"
   ]
  },
  {
   "cell_type": "markdown",
   "id": "f2f876b2-44de-457f-bb92-9eba87b37b08",
   "metadata": {},
   "source": [
    "### Task Statement:\n",
    "\"Ahmed is older than Ali and Rizwan, where Rizwan is younger than Taha and Fareed.\"\n",
    "\n",
    "We will check the above logical conditions using relational and logical operators.\n"
   ]
  },
  {
   "cell_type": "code",
   "execution_count": 1,
   "id": "a634aab7-db3c-4132-b432-bf7473786dc1",
   "metadata": {},
   "outputs": [
    {
     "name": "stdout",
     "output_type": "stream",
     "text": [
      "True\n"
     ]
    }
   ],
   "source": [
    "# Logical Condition Check:\n",
    "# Ahmed is older than Ali and Rizwan;\n",
    "# Rizwan is younger than Taha and Fareed\n",
    "\n",
    "# Ages (in years)\n",
    "ahmed = 30\n",
    "ali = 25\n",
    "rizwan = 20\n",
    "taha = 21\n",
    "fareed = 22\n",
    "\n",
    "# Check all conditions using logical and relational operators\n",
    "is_condition_true = (\n",
    "    ahmed > ali and\n",
    "    ahmed > rizwan and\n",
    "    rizwan < taha and\n",
    "    rizwan < fareed\n",
    ")\n",
    "\n",
    "# Output the result\n",
    "print(is_condition_true)"
   ]
  }
 ],
 "metadata": {
  "kernelspec": {
   "display_name": "Python 3 (ipykernel)",
   "language": "python",
   "name": "python3"
  },
  "language_info": {
   "codemirror_mode": {
    "name": "ipython",
    "version": 3
   },
   "file_extension": ".py",
   "mimetype": "text/x-python",
   "name": "python",
   "nbconvert_exporter": "python",
   "pygments_lexer": "ipython3",
   "version": "3.12.7"
  }
 },
 "nbformat": 4,
 "nbformat_minor": 5
}
